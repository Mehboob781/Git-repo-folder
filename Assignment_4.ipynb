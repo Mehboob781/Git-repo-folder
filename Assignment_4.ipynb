{
 "cells": [
  {
   "cell_type": "markdown",
   "metadata": {},
   "source": [
    "Assignment 04 Solution File"
   ]
  },
  {
   "cell_type": "code",
   "execution_count": 8,
   "metadata": {},
   "outputs": [
    {
     "name": "stdout",
     "output_type": "stream",
     "text": [
      "Akif\n",
      "Hanzla\n",
      "Fahad\n",
      "Danish\n"
     ]
    }
   ],
   "source": [
    "#Adding my friends names in a list\n",
    "names = [\"Akif\",\"Hanzla\",\"Fahad\",\"Danish\"]\n",
    "# to print names seprately \n",
    "for name in names:\n",
    "    print(name)"
   ]
  },
  {
   "cell_type": "code",
   "execution_count": 10,
   "metadata": {},
   "outputs": [
    {
     "name": "stdout",
     "output_type": "stream",
     "text": [
      "Hello! Akif You are strongly welcome\n",
      "Hello! Hanzla You are strongly welcome\n",
      "Hello! Fahad You are strongly welcome\n",
      "Hello! Danish You are strongly welcome\n"
     ]
    }
   ],
   "source": [
    "for name in names:\n",
    "    print(f\"Hello!\",name,\"You are strongly welcome\")"
   ]
  },
  {
   "cell_type": "code",
   "execution_count": null,
   "metadata": {},
   "outputs": [],
   "source": []
  }
 ],
 "metadata": {
  "kernelspec": {
   "display_name": "Python 3",
   "language": "python",
   "name": "python3"
  },
  "language_info": {
   "codemirror_mode": {
    "name": "ipython",
    "version": 3
   },
   "file_extension": ".py",
   "mimetype": "text/x-python",
   "name": "python",
   "nbconvert_exporter": "python",
   "pygments_lexer": "ipython3",
   "version": "3.13.0"
  }
 },
 "nbformat": 4,
 "nbformat_minor": 2
}
