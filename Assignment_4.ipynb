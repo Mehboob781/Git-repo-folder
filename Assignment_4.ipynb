{
 "cells": [
  {
   "cell_type": "markdown",
   "metadata": {},
   "source": [
    "Assignment #4 Solution File"
   ]
  },
  {
   "cell_type": "markdown",
   "metadata": {},
   "source": [
    "Chapter 3: Lists in Python"
   ]
  },
  {
   "cell_type": "code",
   "execution_count": 8,
   "metadata": {},
   "outputs": [
    {
     "name": "stdout",
     "output_type": "stream",
     "text": [
      "Akif\n",
      "Hanzla\n",
      "Fahad\n",
      "Danish\n"
     ]
    }
   ],
   "source": [
    "#Adding my friends names in a list\n",
    "names = [\"Akif\",\"Hanzla\",\"Fahad\",\"Danish\"]\n",
    "# to print names seprately \n",
    "for name in names:\n",
    "    print(name)"
   ]
  },
  {
   "cell_type": "code",
   "execution_count": 10,
   "metadata": {},
   "outputs": [
    {
     "name": "stdout",
     "output_type": "stream",
     "text": [
      "Hello! Akif You are strongly welcome\n",
      "Hello! Hanzla You are strongly welcome\n",
      "Hello! Fahad You are strongly welcome\n",
      "Hello! Danish You are strongly welcome\n"
     ]
    }
   ],
   "source": [
    "for name in names:\n",
    "    print(f\"Hello!\",name,\"You are strongly welcome\")"
   ]
  },
  {
   "cell_type": "code",
   "execution_count": 12,
   "metadata": {},
   "outputs": [
    {
     "name": "stdout",
     "output_type": "stream",
     "text": [
      "Dear Mehboob Alam, you're are warmly invited to dinner at my Home\n",
      "Dear Asif Arshad, you're are warmly invited to dinner at my Home\n",
      "Dear Jameel Akhtar, you're are warmly invited to dinner at my Home\n",
      "Dear Zulqarnain Bakar, you're are warmly invited to dinner at my Home\n"
     ]
    }
   ],
   "source": [
    "#List of guests to invite on dinner\n",
    "guests = [\"Mehboob Alam\",\"Asif Arshad\",\"Jameel Akhtar\",\"Zulqarnain Bakar\"]\n",
    "\n",
    "#Greats with a message\n",
    "for guest in guests:\n",
    "    print(f\"Dear {guest}, you're are warmly invited to dinner at my Home\")"
   ]
  },
  {
   "cell_type": "code",
   "execution_count": 16,
   "metadata": {},
   "outputs": [
    {
     "name": "stdout",
     "output_type": "stream",
     "text": [
      "Good news! i have reserved a bigger table and can invite more guests.\n",
      "Dear Bashir Shabbir, you're cordially invited on dinner at my home\n",
      "Dear Mehboob Alam, you're cordially invited on dinner at my home\n",
      "Dear Asif Arshad, you're cordially invited on dinner at my home\n",
      "Dear Mubashir Mirza, you're cordially invited on dinner at my home\n",
      "Dear Jameel Akhtar, you're cordially invited on dinner at my home\n",
      "Dear Zulqarnain Bakar, you're cordially invited on dinner at my home\n",
      "Dear Shah jmall, you're cordially invited on dinner at my home\n"
     ]
    }
   ],
   "source": [
    "#Announcement to invite on bigger dinner Table \n",
    "print(\"Good news! i have reserved a bigger table and can invite more guests.\")\n",
    "\n",
    "#Adding three more guests\n",
    "guests.append(\"Shah jmall\") # this on add at list end\n",
    "guests.insert(2,\"Mubashir Mirza\")# add in middle of list\n",
    "guests.insert(0,\"Bashir Shabbir\")# this one add on the start of list\n",
    "\n",
    "#Print with invitation Message\n",
    "for guest in guests:\n",
    "    print(f\"Dear {guest}, you're cordially invited on dinner at my home\")"
   ]
  },
  {
   "cell_type": "code",
   "execution_count": 17,
   "metadata": {},
   "outputs": [
    {
     "name": "stdout",
     "output_type": "stream",
     "text": [
      "I just found out that my new table won't arrive in time , so I can only invite two guests.\n",
      "Sorry Shah jmall, I can't invite you to dinner this time\n",
      "Sorry Zulqarnain Bakar, I can't invite you to dinner this time\n",
      "Sorry Jameel Akhtar, I can't invite you to dinner this time\n",
      "Sorry Mubashir Mirza, I can't invite you to dinner this time\n",
      "Sorry Asif Arshad, I can't invite you to dinner this time\n",
      "Dear Bashir Shabbir, you're still invited to dinner!\n",
      "Dear Mehboob Alam, you're still invited to dinner!\n"
     ]
    }
   ],
   "source": [
    "#Announce that the table won't arrive \n",
    "print(\"I just found out that my new table won't arrive in time , so I can only invite two guests.\")\n",
    "\n",
    "# Removing guests with appologies\n",
    "#By using While for \n",
    "while len(guests) > 2:\n",
    "    removed_guests = guests.pop() # Remove guests from list end\n",
    "    print(f\"Sorry {removed_guests}, I can't invite you to dinner this time\")\n",
    "\n",
    "#Conforming invitations for remaining two guests\n",
    "for guest in guests:\n",
    "    print(f\"Dear {guest}, you're still invited to dinner!\")\n"
   ]
  },
  {
   "cell_type": "code",
   "execution_count": 18,
   "metadata": {},
   "outputs": [
    {
     "name": "stdout",
     "output_type": "stream",
     "text": [
      "[]\n"
     ]
    }
   ],
   "source": [
    "#Clearing the list \n",
    "#Ensure the list is empty\n",
    "del guests[:]\n",
    "print(guests) #The list is empty now"
   ]
  },
  {
   "cell_type": "code",
   "execution_count": 14,
   "metadata": {},
   "outputs": [
    {
     "name": "stdout",
     "output_type": "stream",
     "text": [
      "I would like to own a Motor bike\n",
      "I would like to own a Honda City Car\n",
      "I would like to own a YBR Z Bike\n",
      "I would like to own a Toyota GLI\n"
     ]
    }
   ],
   "source": [
    "#Favourite modes of transport \n",
    "transportation = [\"Motor bike\",\"Honda City Car\",\"YBR Z Bike\",\"Toyota GLI\"]\n",
    "\n",
    "#Print statement with each favourite transport \n",
    "for transport in transportation:\n",
    "    print(f\"I would like to own a {transport}\")"
   ]
  },
  {
   "cell_type": "code",
   "execution_count": 27,
   "metadata": {},
   "outputs": [
    {
     "name": "stdout",
     "output_type": "stream",
     "text": [
      "Original list: ['Babusaru top', 'China wall', 'Kashmir', 'Abotabad', 'Nangaparbat']\n",
      "Alphabatical Order: ['Abotabad', 'Babusaru top', 'China wall', 'Kashmir', 'Nangaparbat']\n",
      "Original list (unchaged): ['Babusaru top', 'China wall', 'Kashmir', 'Abotabad', 'Nangaparbat']\n",
      "Reverse alphabatical order: ['Nangaparbat', 'Kashmir', 'China wall', 'Babusaru top', 'Abotabad']\n",
      "Original list (unchaged): ['Babusaru top', 'China wall', 'Kashmir', 'Abotabad', 'Nangaparbat']\n",
      "Reverse list: ['Nangaparbat', 'Abotabad', 'Kashmir', 'China wall', 'Babusaru top']\n",
      "Restored towards original order: ['Babusaru top', 'China wall', 'Kashmir', 'Abotabad', 'Nangaparbat']\n"
     ]
    }
   ],
   "source": [
    "#Make a list of places to visit\n",
    "places= [\"Babusaru top\", \"China wall\", \"Kashmir\", \"Abotabad\", \"Nangaparbat\"]\n",
    " \n",
    "#List In Original order\n",
    "print(\"Original list:\", places)\n",
    "\n",
    "#Alphabatical order\n",
    "print(\"Alphabatical Order:\", sorted(places))\n",
    "\n",
    "#Again in Original manner\n",
    "print(\"Original list (unchaged):\", places)\n",
    "\n",
    "#Print in reverse Alphabatical Order\n",
    "print(\"Reverse alphabatical order:\", sorted(places, reverse=True))\n",
    "\n",
    "#Original order again\n",
    "print(\"Original list (unchaged):\", places)\n",
    "\n",
    "#Reverse the list order of places\n",
    "places.reverse()\n",
    "print(\"Reverse list:\", places)\n",
    "\n",
    "#Restoring Original order\n",
    "places.reverse()\n",
    "print(\"Restored towards original order:\", places)\n",
    "\n"
   ]
  },
  {
   "cell_type": "code",
   "execution_count": null,
   "metadata": {},
   "outputs": [],
   "source": []
  }
 ],
 "metadata": {
  "kernelspec": {
   "display_name": "Python 3",
   "language": "python",
   "name": "python3"
  },
  "language_info": {
   "codemirror_mode": {
    "name": "ipython",
    "version": 3
   },
   "file_extension": ".py",
   "mimetype": "text/x-python",
   "name": "python",
   "nbconvert_exporter": "python",
   "pygments_lexer": "ipython3",
   "version": "3.13.0"
  }
 },
 "nbformat": 4,
 "nbformat_minor": 2
}
