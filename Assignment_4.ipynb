{
 "cells": [
  {
   "cell_type": "markdown",
   "metadata": {},
   "source": [
    "Assignment #4 Solution File"
   ]
  },
  {
   "cell_type": "markdown",
   "metadata": {},
   "source": [
    "Chapter 3: Lists in Python"
   ]
  },
  {
   "cell_type": "markdown",
   "metadata": {},
   "source": [
    "Exercise 3-1: Names"
   ]
  },
  {
   "cell_type": "code",
   "execution_count": null,
   "metadata": {},
   "outputs": [],
   "source": [
    "#Adding my friends names in a list\n",
    "names = [\"Akif\",\"Hanzla\",\"Fahad\",\"Danish\"]\n",
    "# to print names seprately \n",
    "for name in names:\n",
    "    print(name)"
   ]
  },
  {
   "cell_type": "markdown",
   "metadata": {},
   "source": [
    "Exercise 3-2: Greatings"
   ]
  },
  {
   "cell_type": "code",
   "execution_count": null,
   "metadata": {},
   "outputs": [],
   "source": [
    "for name in names:\n",
    "    print(f\"Hello!\",name,\"You are strongly welcome\")"
   ]
  },
  {
   "cell_type": "markdown",
   "metadata": {},
   "source": [
    "Exercise 3-3: My Own List"
   ]
  },
  {
   "cell_type": "code",
   "execution_count": null,
   "metadata": {},
   "outputs": [],
   "source": [
    "#Favourite modes of transport \n",
    "transportation = [\"Motor bike\",\"Honda City Car\",\"YBR Z Bike\",\"Toyota GLI\"]\n",
    "\n",
    "#Print statement with each favourite transport \n",
    "for transport in transportation:\n",
    "    print(f\"I would like to own a {transport}\")"
   ]
  },
  {
   "cell_type": "markdown",
   "metadata": {},
   "source": [
    "Excercise 3-4: Guest List"
   ]
  },
  {
   "cell_type": "code",
   "execution_count": null,
   "metadata": {},
   "outputs": [],
   "source": [
    "#List of guests to invite on dinner\n",
    "guests = [\"Mehboob Alam\",\"Asif Arshad\",\"Jameel Akhtar\",\"Zulqarnain Bakar\"]\n",
    "\n",
    "#Greats with a message\n",
    "for guest in guests:\n",
    "    print(f\"Dear {guest}, you're are warmly invited to dinner at my Home\")"
   ]
  },
  {
   "cell_type": "markdown",
   "metadata": {},
   "source": [
    "Exercise 3-5: Changing Guest List adding more Guests"
   ]
  },
  {
   "cell_type": "code",
   "execution_count": null,
   "metadata": {},
   "outputs": [],
   "source": [
    "#Announcement to invite on bigger dinner Table \n",
    "print(\"Good news! i have reserved a bigger table and can invite more guests.\")\n",
    "\n",
    "#Adding three more guests\n",
    "guests.append(\"Shah jmall\") # this on add at list end\n",
    "guests.insert(2,\"Mubashir Mirza\")# add in middle of list\n",
    "guests.insert(0,\"Bashir Shabbir\")# this one add on the start of list\n",
    "\n",
    "#Print with invitation Message\n",
    "for guest in guests:\n",
    "    print(f\"Dear {guest}, you're cordially invited on dinner at my home\")"
   ]
  },
  {
   "cell_type": "markdown",
   "metadata": {},
   "source": [
    "Exercise 3-6: Shrinking Guest List"
   ]
  },
  {
   "cell_type": "code",
   "execution_count": null,
   "metadata": {},
   "outputs": [],
   "source": [
    "#Announce that the table won't arrive \n",
    "print(\"I just found out that my new table won't arrive in time , so I can only invite two guests.\")\n",
    "\n",
    "# Removing guests with appologies\n",
    "#By using While for \n",
    "while len(guests) > 2:\n",
    "    removed_guests = guests.pop() # Remove guests from list end\n",
    "    print(f\"Sorry {removed_guests}, I can't invite you to dinner this time\")\n",
    "\n",
    "#Conforming invitations for remaining two guests\n",
    "for guest in guests:\n",
    "    print(f\"Dear {guest}, you're still invited to dinner!\")\n"
   ]
  },
  {
   "cell_type": "markdown",
   "metadata": {},
   "source": [
    "Ensure the empty list"
   ]
  },
  {
   "cell_type": "code",
   "execution_count": null,
   "metadata": {},
   "outputs": [],
   "source": [
    "#Clearing the list \n",
    "#Ensure the list is empty\n",
    "del guests[:]\n",
    "print(guests) #The list is empty now"
   ]
  },
  {
   "cell_type": "markdown",
   "metadata": {},
   "source": [
    "Exercise 3-7: Seeing the World List (Indexing,Add,Remove,Modification)"
   ]
  },
  {
   "cell_type": "code",
   "execution_count": 45,
   "metadata": {},
   "outputs": [
    {
     "name": "stdout",
     "output_type": "stream",
     "text": [
      "Original list: ['Babusaru top', 'China wall', 'Kashmir', 'Abotabad', 'Nangaparbat']\n",
      "At Index 0: Babusaru top\n",
      "At Index 1: China wall\n",
      "At Index 2: Kashmir\n",
      "At Index 3: Abotabad\n",
      "At Index 4: Nangaparbat\n",
      "Alphabatical Order: ['Abotabad', 'Babusaru top', 'China wall', 'Kashmir', 'Nangaparbat']\n",
      "Original list (unchaged): ['Babusaru top', 'China wall', 'Kashmir', 'Abotabad', 'Nangaparbat']\n",
      "Print indxing position with title....\n",
      "Idex 0 with title: Babusaru Top\n",
      "Idex 1 with title: China Wall\n",
      "Idex 2 with title: Kashmir\n",
      "Idex 3 with title: Abotabad\n",
      "Idex 4 with title: Nangaparbat\n",
      "Modifying List items.........\n",
      "After modification at 0 position: Nathia Gali\n",
      "After modification at 1 position: Skardu\n",
      "After modification at 2 position: Faisal Mosque\n",
      "After modification at 3 position: Hiran Minar\n",
      "After modification at 4 position: Mohenjo Daro\n",
      "New Modefied List: ['Nathia Gali', 'Skardu', 'Faisal Mosque', 'Hiran Minar', 'Mohenjo Daro']\n"
     ]
    }
   ],
   "source": [
    "#Make a list of places to visit\n",
    "places= [\"Babusaru top\", \"China wall\", \"Kashmir\", \"Abotabad\", \"Nangaparbat\"]\n",
    " \n",
    "#List In Original order\n",
    "print(\"Original list:\", places)\n",
    "\n",
    "#List as respect of indexing\n",
    "print(\"At Index 0:\", places[0])\n",
    "print(\"At Index 1:\", places[1])\n",
    "print(\"At Index 2:\", places[2])\n",
    "print(\"At Index 3:\", places[3])\n",
    "print(\"At Index 4:\", places[4])\n",
    "\n",
    "#Alphabatical order\n",
    "print(\"Alphabatical Order:\", sorted(places))\n",
    "\n",
    "#Again in Original manner\n",
    "print(\"Original list (unchaged):\", places)\n",
    "\n",
    "#use of title()\n",
    "print(\"Print indxing position with title....\")\n",
    "print(\"Idex 0 with title:\", places[0].title())\n",
    "print(\"Idex 1 with title:\", places[1].title())\n",
    "print(\"Idex 2 with title:\", places[2].title())\n",
    "print(\"Idex 3 with title:\", places[3].title())\n",
    "print(\"Idex 4 with title:\", places[4].title())\n",
    "\n",
    "#Modifying List items\n",
    "print(\"Modifying List items.........\")\n",
    "places[0] = 'Nathia Gali'\n",
    "print(\"After modification at 0 position:\",places[0])\n",
    "places[1] = 'Skardu'\n",
    "print(\"After modification at 1 position:\",places[1])\n",
    "places[2] = 'Faisal Mosque'\n",
    "print(\"After modification at 2 position:\",places[2])\n",
    "places[3] = 'Hiran Minar'\n",
    "print(\"After modification at 3 position:\",places[3])\n",
    "places[4] = 'Mohenjo Daro'\n",
    "print(\"After modification at 4 position:\",places[4])\n",
    "\n",
    "#Printing Original List\n",
    "print(\"New Modefied List:\", places)\n"
   ]
  },
  {
   "cell_type": "markdown",
   "metadata": {},
   "source": [
    "Reversing(boolen) list or sorting list\n",
    "|"
   ]
  },
  {
   "cell_type": "code",
   "execution_count": 28,
   "metadata": {},
   "outputs": [
    {
     "name": "stdout",
     "output_type": "stream",
     "text": [
      "Reverse alphabatical order: ['Nangaparbat', 'Kashmir', 'China wall', 'Babusaru top', 'Abotabad']\n",
      "Original list (unchaged): ['Babusaru top', 'China wall', 'Kashmir', 'Abotabad', 'Nangaparbat']\n",
      "Reverse list: ['Nangaparbat', 'Abotabad', 'Kashmir', 'China wall', 'Babusaru top']\n",
      "Restored towards original order: ['Babusaru top', 'China wall', 'Kashmir', 'Abotabad', 'Nangaparbat']\n"
     ]
    }
   ],
   "source": [
    "#Print in reverse Alphabatical Order\n",
    "print(\"Reverse alphabatical order:\", sorted(places, reverse=True))\n",
    "\n",
    "#Original order again\n",
    "print(\"Original list (unchaged):\", places)\n",
    "\n",
    "#Reverse the list order of places\n",
    "places.reverse()\n",
    "print(\"Reverse list:\", places)\n",
    "\n",
    "#Restoring Original order\n",
    "places.reverse()\n",
    "print(\"Restored towards original order:\", places)"
   ]
  }
 ],
 "metadata": {
  "kernelspec": {
   "display_name": "Python 3",
   "language": "python",
   "name": "python3"
  },
  "language_info": {
   "codemirror_mode": {
    "name": "ipython",
    "version": 3
   },
   "file_extension": ".py",
   "mimetype": "text/x-python",
   "name": "python",
   "nbconvert_exporter": "python",
   "pygments_lexer": "ipython3",
   "version": "3.13.0"
  }
 },
 "nbformat": 4,
 "nbformat_minor": 2
}
